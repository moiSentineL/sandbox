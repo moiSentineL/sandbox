{
 "cells": [
  {
   "cell_type": "markdown",
   "id": "173b63ec-c756-4f0f-aa4b-a0f420f4a40c",
   "metadata": {},
   "source": [
    "## Algorithm used by calculators to calculate square roots\n",
    "\n",
    "As published in this [paper](https://fiziko.bureau42.com/teaching_tidbits/manual_square_root.pdf) of 2010 by Dowler, William, calculators use a certain _recursive_ function to obtain the square root, which is as follows:\n",
    "\n",
    "$$\n",
    "\\large x_n = \\frac{x_1 + \\frac{a}{x_1}}{2}\n",
    "$$\n",
    "\n",
    "where $x_n$ is the square root, $x_1$ is the assumed square root and $a$ is the number of which you want to find the square root."
   ]
  },
  {
   "cell_type": "code",
   "execution_count": 12,
   "id": "239175af",
   "metadata": {},
   "outputs": [],
   "source": [
    "def expression(constant, assume):\n",
    "    a = float(constant)\n",
    "    x_n0 = float(assume)\n",
    "\n",
    "    x_n = ((x_n0 + (a/x_n0))/2) \n",
    "\n",
    "    return x_n"
   ]
  },
  {
   "cell_type": "markdown",
   "id": "da87145b",
   "metadata": {},
   "source": [
    "This is the above expression written in Python. \n",
    "It assumes two constants and returns the value."
   ]
  },
  {
   "cell_type": "code",
   "execution_count": 13,
   "id": "0c4ad28d",
   "metadata": {},
   "outputs": [],
   "source": [
    "def algorithm(c):\n",
    "    x_n0 = 1\n",
    "\n",
    "    while True:\n",
    "        x_n = expression(c, x_n0)\n",
    "\n",
    "        if x_n != x_n0:\n",
    "            x_n0 = x_n\n",
    "            print(x_n)\n",
    "        elif x_n == 1:\n",
    "            print(\"fuck youuu\")\n",
    "        else:\n",
    "            print(\"aha here's your square root^^\")\n",
    "            break"
   ]
  },
  {
   "cell_type": "markdown",
   "id": "b88508a4",
   "metadata": {},
   "source": [
    "And this runs the algorithm.\n",
    "\n",
    "For the first instance, we are assuming the square root to be 1. \n",
    "\n",
    "Simple logic: if the input is 1, then it prints \"fuck you\" until the end of time.\n",
    "If it is not, then it prints the output. And when it returns the square root twice (you'll tend to find that if the square is found, the function repeats itself, like Idempotent law.), it prints that you've got it."
   ]
  },
  {
   "cell_type": "code",
   "execution_count": null,
   "id": "7a6022ed",
   "metadata": {},
   "outputs": [],
   "source": [
    "\n",
    "if __name__ == \"__main__\":\n",
    "    try:\n",
    "        algorithm(699999992399321783102983912313232317203891207309123709) # the number\n",
    "    except IndexError as e:\n",
    "        print(\"bruh type a number\")"
   ]
  },
  {
   "cell_type": "markdown",
   "id": "0b9bfd4e",
   "metadata": {},
   "source": [
    "### And somehow it is almost instantaneous."
   ]
  }
 ],
 "metadata": {
  "kernelspec": {
   "display_name": "Python 3 (ipykernel)",
   "language": "python",
   "name": "python3"
  },
  "language_info": {
   "codemirror_mode": {
    "name": "ipython",
    "version": 3
   },
   "file_extension": ".py",
   "mimetype": "text/x-python",
   "name": "python",
   "nbconvert_exporter": "python",
   "pygments_lexer": "ipython3",
   "version": "3.12.4"
  }
 },
 "nbformat": 4,
 "nbformat_minor": 5
}
